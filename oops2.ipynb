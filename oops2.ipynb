{
 "cells": [
  {
   "cell_type": "markdown",
   "metadata": {},
   "source": [
    "# What are OOPS?\n",
    "\n",
    "In Python, object-oriented Programming (OOPs) is a programming paradigm that uses objects and classes in programming.\n",
    "Class are design/blueprint and objects are instance means entities"
   ]
  },
  {
   "cell_type": "code",
   "execution_count": 1,
   "metadata": {},
   "outputs": [
    {
     "name": "stdout",
     "output_type": "stream",
     "text": [
      "Blu is a bird\n",
      "Woo is also a bird\n",
      "Blu is 10 years old\n",
      "Woo is 15 years old\n"
     ]
    }
   ],
   "source": [
    "class Parrot:\n",
    "    #class attribute\n",
    "    species=\"bird\"\n",
    "    \n",
    "    #instance attribute\n",
    "    def __init__(self,name,age):\n",
    "        self.name=name\n",
    "        self.age=age\n",
    "#instantiate parrot class\n",
    "blu=Parrot(\"Blu\",10)\n",
    "woo=Parrot(\"Woo\",15)\n",
    "#access the class attribute\n",
    "print(\"Blu is a {}\".format(blu.__class__.species))\n",
    "print(\"Woo is also a {}\".format(woo.__class__.species))\n",
    "#access the instance attribute\n",
    "print(\"{} is {} years old\".format(blu.name,blu.age))\n",
    "print(\"{} is {} years old\".format(woo.name,woo.age))"
   ]
  },
  {
   "cell_type": "markdown",
   "metadata": {},
   "source": [
    "# Creating class and object"
   ]
  },
  {
   "cell_type": "code",
   "execution_count": 2,
   "metadata": {},
   "outputs": [
    {
     "name": "stdout",
     "output_type": "stream",
     "text": [
      "a is  a Girl\n",
      "b is a Boy\n",
      "a is  12 years old\n",
      "b is 13 years old\n"
     ]
    }
   ],
   "source": [
    "class student:\n",
    "    species1=\"Girl\"\n",
    "    species2=\"Boy\"\n",
    "    \n",
    "    def __init__(self,name,age):\n",
    "        self.name=name\n",
    "        self.age=age\n",
    "a=student(\"a\",12)\n",
    "b=student(\"b\",13)\n",
    "print(\"a is  a {}\".format(a.__class__.species1))\n",
    "print(\"b is a {}\".format(b.__class__.species2))\n",
    "\n",
    "print(\"{} is  {} years old\".format(a.name,a.age))\n",
    "print(\"{} is {} years old\".format(b.name,b.age))"
   ]
  },
  {
   "cell_type": "code",
   "execution_count": 3,
   "metadata": {},
   "outputs": [
    {
     "name": "stdout",
     "output_type": "stream",
     "text": [
      "a is a girl\n",
      "b is a boy\n",
      "a is a 22 years old\n",
      "b is 24 years old\n"
     ]
    }
   ],
   "source": [
    "class student:\n",
    "    #class attribute\n",
    "    species1=\"girl\"\n",
    "    species2=\"boy\"\n",
    "    \n",
    "    #instance attribute\n",
    "    def __init__(self,name,age):\n",
    "        self.name=name\n",
    "        self.age=age\n",
    "#instantiate student class\n",
    "a=student(\"a\",22)\n",
    "b=student(\"b\",24)\n",
    "#access the class attribute\n",
    "print(\"a is a {}\".format(a.__class__.species1))\n",
    "print(\"b is a {}\".format(b.__class__.species2))\n",
    "#access the instance attribute\n",
    "print(\"{} is a {} years old\".format(a.name,a.age))\n",
    "print(\"{} is {} years old\".format(b.name,b.age))"
   ]
  },
  {
   "cell_type": "markdown",
   "metadata": {},
   "source": [
    "# Create methods in python"
   ]
  },
  {
   "cell_type": "code",
   "execution_count": 28,
   "metadata": {},
   "outputs": [
    {
     "name": "stdout",
     "output_type": "stream",
     "text": [
      "Dakshi sings happy\n",
      "Dakshi is now dancing\n"
     ]
    }
   ],
   "source": [
    "class student:\n",
    "    \n",
    "    def ___init__(self,name,age):\n",
    "        self.name=name\n",
    "        self.age=age\n",
    "        \n",
    "    def sing(self,song):\n",
    "        return \"{} sings {}\".format(self.name,song)\n",
    "    \n",
    "    def dance(self):\n",
    "        return \"{} is dancing {}\".format(self.name,dance)\n",
    "    \n",
    "dakshi = Parrot(\"Dakshi\", 10)\n",
    "\n",
    "print(dakshi.sing(\"happy\"))\n",
    "print(dakshi.dance())"
   ]
  },
  {
   "cell_type": "markdown",
   "metadata": {},
   "source": [
    "# Inheritance"
   ]
  },
  {
   "cell_type": "code",
   "execution_count": null,
   "metadata": {},
   "outputs": [],
   "source": [
    "class Parents:\n",
    "    \n",
    "    def __init__(self):\n",
    "        print(\"Parents are life\")\n",
    "        "
   ]
  }
 ],
 "metadata": {
  "kernelspec": {
   "display_name": "Python 3",
   "language": "python",
   "name": "python3"
  },
  "language_info": {
   "codemirror_mode": {
    "name": "ipython",
    "version": 3
   },
   "file_extension": ".py",
   "mimetype": "text/x-python",
   "name": "python",
   "nbconvert_exporter": "python",
   "pygments_lexer": "ipython3",
   "version": "3.8.3"
  }
 },
 "nbformat": 4,
 "nbformat_minor": 4
}
