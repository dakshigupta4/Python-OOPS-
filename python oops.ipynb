{
 "cells": [
  {
   "cell_type": "markdown",
   "metadata": {},
   "source": [
    "# What are OOPS?\n",
    "In Python, object-oriented Programming (OOPs) is a programming paradigm that uses objects and classes in programming. Class are design/blueprint and objects are instance means entities"
   ]
  },
  {
   "cell_type": "markdown",
   "metadata": {},
   "source": [
    "# Creating class and object"
   ]
  },
  {
   "cell_type": "code",
   "execution_count": 1,
   "metadata": {},
   "outputs": [
    {
     "name": "stdout",
     "output_type": "stream",
     "text": [
      "a is  a Girl\n",
      "b is a Boy\n",
      "a is  12 years old\n",
      "b is 13 years old\n"
     ]
    }
   ],
   "source": [
    "class student:\n",
    "    species1=\"Girl\"\n",
    "    species2=\"Boy\"\n",
    "    \n",
    "    def __init__(self,name,age):\n",
    "        self.name=name\n",
    "        self.age=age\n",
    "a=student(\"a\",12)\n",
    "b=student(\"b\",13)\n",
    "print(\"a is  a {}\".format(a.__class__.species1))\n",
    "print(\"b is a {}\".format(b.__class__.species2))\n",
    "\n",
    "print(\"{} is  {} years old\".format(a.name,a.age))\n",
    "print(\"{} is {} years old\".format(b.name,b.age))"
   ]
  },
  {
   "cell_type": "code",
   "execution_count": null,
   "metadata": {},
   "outputs": [],
   "source": []
  }
 ],
 "metadata": {
  "kernelspec": {
   "display_name": "Python 3",
   "language": "python",
   "name": "python3"
  },
  "language_info": {
   "codemirror_mode": {
    "name": "ipython",
    "version": 3
   },
   "file_extension": ".py",
   "mimetype": "text/x-python",
   "name": "python",
   "nbconvert_exporter": "python",
   "pygments_lexer": "ipython3",
   "version": "3.8.3"
  }
 },
 "nbformat": 4,
 "nbformat_minor": 4
}
